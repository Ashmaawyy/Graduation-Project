{
 "cells": [
  {
   "cell_type": "markdown",
   "metadata": {},
   "source": [
    "# Project: Investigate Email Messages Dataset\n",
    "\n",
    "## Table of Contents\n",
    "<ul>\n",
    "<li><a href=\"#intro\">Introduction</a></li>\n",
    "<li><a href=\"#wrangling\">Data Wrangling</a></li>\n",
    "<li><a href=\"#eda\">Exploratory Data Analysis</a></li>\n",
    "<li><a href=\"#conclusions\">Conclusions</a></li>\n",
    "</ul>"
   ]
  },
  {
   "cell_type": "markdown",
   "metadata": {},
   "source": [
    "<a id='intro'></a>\n",
    "## Introduction\n"
   ]
  },
  {
   "cell_type": "code",
   "execution_count": 1,
   "metadata": {
    "collapsed": true
   },
   "outputs": [],
   "source": [
    "from EmailHandler import *"
   ]
  },
  {
   "cell_type": "markdown",
   "metadata": {},
   "source": [
    "<a id='wrangling'></a>\n",
    "## Data Wrangling\n",
    "\n",
    "### General Properties"
   ]
  },
  {
   "cell_type": "code",
   "execution_count": 2,
   "metadata": {
    "collapsed": true
   },
   "outputs": [
    {
     "name": "stdout",
     "output_type": "stream",
     "text": [
      "Messages saved into a dataframe successfully :)\n",
      "<class 'pandas.core.frame.DataFrame'>\n",
      "RangeIndex: 10 entries, 0 to 9\n",
      "Data columns (total 3 columns):\n",
      " #   Column   Non-Null Count  Dtype \n",
      "---  ------   --------------  ----- \n",
      " 0   subject  10 non-null     object\n",
      " 1   from     10 non-null     object\n",
      " 2   body     3 non-null      object\n",
      "dtypes: object(3)\n",
      "memory usage: 368.0+ bytes\n"
     ]
    }
   ],
   "source": [
    "messages_df = recieve_emails_into_df()\n",
    "messages_df.info()"
   ]
  },
  {
   "cell_type": "code",
   "execution_count": 11,
   "metadata": {},
   "outputs": [
    {
     "data": {
      "text/html": [
       "<div>\n",
       "<style scoped>\n",
       "    .dataframe tbody tr th:only-of-type {\n",
       "        vertical-align: middle;\n",
       "    }\n",
       "\n",
       "    .dataframe tbody tr th {\n",
       "        vertical-align: top;\n",
       "    }\n",
       "\n",
       "    .dataframe thead th {\n",
       "        text-align: right;\n",
       "    }\n",
       "</style>\n",
       "<table border=\"1\" class=\"dataframe\">\n",
       "  <thead>\n",
       "    <tr style=\"text-align: right;\">\n",
       "      <th></th>\n",
       "      <th>subject</th>\n",
       "      <th>from</th>\n",
       "      <th>body</th>\n",
       "    </tr>\n",
       "  </thead>\n",
       "  <tbody>\n",
       "    <tr>\n",
       "      <th>0</th>\n",
       "      <td>We think you might like these 17 ideas</td>\n",
       "      <td>Pinterest &lt;recommendations@discover.pinterest....</td>\n",
       "      <td>None</td>\n",
       "    </tr>\n",
       "    <tr>\n",
       "      <th>1</th>\n",
       "      <td>=?utf-8?Q?Tell=20Us=20More=20about=20You=21=20...</td>\n",
       "      <td>=?utf-8?Q?Michigan=20Online?= &lt;michigan-online...</td>\n",
       "      <td>None</td>\n",
       "    </tr>\n",
       "    <tr>\n",
       "      <th>2</th>\n",
       "      <td>=?UTF-8?B?8J+kkfCflqTZhdiz2KrYudiv2YrZhiDYnyAg...</td>\n",
       "      <td>Ravin &lt;no-reply@marsello.com&gt;</td>\n",
       "      <td>b'&lt;!DOCTYPE HTML PUBLIC \"-//W3C//DTD XHTML 1.0...</td>\n",
       "    </tr>\n",
       "    <tr>\n",
       "      <th>3</th>\n",
       "      <td>Security alert</td>\n",
       "      <td>Google &lt;no-reply@accounts.google.com&gt;</td>\n",
       "      <td>None</td>\n",
       "    </tr>\n",
       "    <tr>\n",
       "      <th>4</th>\n",
       "      <td>Security alert</td>\n",
       "      <td>Google &lt;no-reply@accounts.google.com&gt;</td>\n",
       "      <td>None</td>\n",
       "    </tr>\n",
       "    <tr>\n",
       "      <th>5</th>\n",
       "      <td>Critical security alert</td>\n",
       "      <td>Google &lt;no-reply@accounts.google.com&gt;</td>\n",
       "      <td>None</td>\n",
       "    </tr>\n",
       "    <tr>\n",
       "      <th>6</th>\n",
       "      <td>=?UTF-8?B?8J+UsCBGb3JhZ2UgfCAg8J+ThA==?= PDF o...</td>\n",
       "      <td>Forage &lt;admin@theforage.com&gt;</td>\n",
       "      <td>b'&lt;!DOCTYPE html PUBLIC \"-//W3C//DTD XHTML 1.0...</td>\n",
       "    </tr>\n",
       "    <tr>\n",
       "      <th>7</th>\n",
       "      <td>Nonsense words make people around the world th...</td>\n",
       "      <td>\"News from Science\" &lt;alerts@aaas.sciencepubs.org&gt;</td>\n",
       "      <td>None</td>\n",
       "    </tr>\n",
       "    <tr>\n",
       "      <th>8</th>\n",
       "      <td>Just in at Bain &amp; Company: This week's employe...</td>\n",
       "      <td>Glassdoor &lt;noreply@glassdoor.com&gt;</td>\n",
       "      <td>b'&lt;!doctype html PUBLIC \"-//W3C//DTD XHTML 1.0...</td>\n",
       "    </tr>\n",
       "    <tr>\n",
       "      <th>9</th>\n",
       "      <td>Time Is Running Out to Join McKinsey &amp; Company...</td>\n",
       "      <td>\"data.world team\" &lt;research@data.world&gt;</td>\n",
       "      <td>None</td>\n",
       "    </tr>\n",
       "  </tbody>\n",
       "</table>\n",
       "</div>"
      ],
      "text/plain": [
       "                                             subject  \\\n",
       "0             We think you might like these 17 ideas   \n",
       "1  =?utf-8?Q?Tell=20Us=20More=20about=20You=21=20...   \n",
       "2  =?UTF-8?B?8J+kkfCflqTZhdiz2KrYudiv2YrZhiDYnyAg...   \n",
       "3                                     Security alert   \n",
       "4                                     Security alert   \n",
       "5                            Critical security alert   \n",
       "6  =?UTF-8?B?8J+UsCBGb3JhZ2UgfCAg8J+ThA==?= PDF o...   \n",
       "7  Nonsense words make people around the world th...   \n",
       "8  Just in at Bain & Company: This week's employe...   \n",
       "9  Time Is Running Out to Join McKinsey & Company...   \n",
       "\n",
       "                                                from  \\\n",
       "0  Pinterest <recommendations@discover.pinterest....   \n",
       "1  =?utf-8?Q?Michigan=20Online?= <michigan-online...   \n",
       "2                      Ravin <no-reply@marsello.com>   \n",
       "3              Google <no-reply@accounts.google.com>   \n",
       "4              Google <no-reply@accounts.google.com>   \n",
       "5              Google <no-reply@accounts.google.com>   \n",
       "6                       Forage <admin@theforage.com>   \n",
       "7  \"News from Science\" <alerts@aaas.sciencepubs.org>   \n",
       "8                  Glassdoor <noreply@glassdoor.com>   \n",
       "9            \"data.world team\" <research@data.world>   \n",
       "\n",
       "                                                body  \n",
       "0                                               None  \n",
       "1                                               None  \n",
       "2  b'<!DOCTYPE HTML PUBLIC \"-//W3C//DTD XHTML 1.0...  \n",
       "3                                               None  \n",
       "4                                               None  \n",
       "5                                               None  \n",
       "6  b'<!DOCTYPE html PUBLIC \"-//W3C//DTD XHTML 1.0...  \n",
       "7                                               None  \n",
       "8  b'<!doctype html PUBLIC \"-//W3C//DTD XHTML 1.0...  \n",
       "9                                               None  "
      ]
     },
     "execution_count": 11,
     "metadata": {},
     "output_type": "execute_result"
    }
   ],
   "source": [
    "messages_df.head(10)"
   ]
  },
  {
   "cell_type": "markdown",
   "metadata": {},
   "source": [
    "### Data Cleaning"
   ]
  },
  {
   "cell_type": "markdown",
   "metadata": {},
   "source": [
    "<a id='eda'></a>\n",
    "## Exploratory Data Analysis\n",
    "\n",
    "### Research Question 1 (Replace this header name!)"
   ]
  },
  {
   "cell_type": "code",
   "execution_count": null,
   "metadata": {
    "collapsed": true
   },
   "outputs": [],
   "source": [
    "# Use this, and more code cells, to explore your data. Don't forget to add\n",
    "#   Markdown cells to document your observations and findings.\n"
   ]
  },
  {
   "cell_type": "markdown",
   "metadata": {},
   "source": [
    "### Research Question 2  (Replace this header name!)"
   ]
  },
  {
   "cell_type": "code",
   "execution_count": null,
   "metadata": {
    "collapsed": true
   },
   "outputs": [],
   "source": [
    "# Continue to explore the data to address your additional research\n",
    "#   questions. Add more headers as needed if you have more questions to\n",
    "#   investigate.\n"
   ]
  },
  {
   "cell_type": "markdown",
   "metadata": {},
   "source": [
    "<a id='conclusions'></a>\n",
    "## Conclusions"
   ]
  },
  {
   "cell_type": "code",
   "execution_count": null,
   "metadata": {
    "collapsed": true
   },
   "outputs": [],
   "source": []
  }
 ],
 "metadata": {
  "kernelspec": {
   "display_name": "Python [default]",
   "language": "python",
   "name": "python3"
  },
  "language_info": {
   "codemirror_mode": {
    "name": "ipython",
    "version": 3
   },
   "file_extension": ".py",
   "mimetype": "text/x-python",
   "name": "python",
   "nbconvert_exporter": "python",
   "pygments_lexer": "ipython3",
   "version": "3.9.7"
  }
 },
 "nbformat": 4,
 "nbformat_minor": 2
}
