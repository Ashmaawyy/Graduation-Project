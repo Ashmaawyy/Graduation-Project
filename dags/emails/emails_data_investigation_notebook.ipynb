{
 "cells": [
  {
   "cell_type": "markdown",
   "metadata": {},
   "source": [
    "# Project: Investigate Email Messages Dataset\n",
    "\n",
    "## Table of Contents\n",
    "<ul>\n",
    "<li><a href=\"#intro\">Introduction</a></li>\n",
    "<li><a href=\"#wrangling\">Data Wrangling</a></li>\n",
    "<li><a href=\"#eda\">Exploratory Data Analysis</a></li>\n",
    "<li><a href=\"#conclusions\">Conclusions</a></li>\n",
    "</ul>"
   ]
  },
  {
   "cell_type": "markdown",
   "metadata": {},
   "source": [
    "<a id='intro'></a>\n",
    "## Introduction\n"
   ]
  },
  {
   "cell_type": "code",
   "execution_count": 1,
   "metadata": {
    "collapsed": true
   },
   "outputs": [
    {
     "name": "stdout",
     "output_type": "stream",
     "text": [
      "Messages saved into a dataframe successfully :)\n"
     ]
    }
   ],
   "source": [
    "from email_handler import *\n",
    "from email_analyzer import *"
   ]
  },
  {
   "cell_type": "markdown",
   "metadata": {},
   "source": [
    "<a id='wrangling'></a>\n",
    "## Data Wrangling\n",
    "\n",
    "### General Properties"
   ]
  },
  {
   "cell_type": "code",
   "execution_count": 2,
   "metadata": {},
   "outputs": [
    {
     "data": {
      "text/html": [
       "<div>\n",
       "<style scoped>\n",
       "    .dataframe tbody tr th:only-of-type {\n",
       "        vertical-align: middle;\n",
       "    }\n",
       "\n",
       "    .dataframe tbody tr th {\n",
       "        vertical-align: top;\n",
       "    }\n",
       "\n",
       "    .dataframe thead th {\n",
       "        text-align: right;\n",
       "    }\n",
       "</style>\n",
       "<table border=\"1\" class=\"dataframe\">\n",
       "  <thead>\n",
       "    <tr style=\"text-align: right;\">\n",
       "      <th></th>\n",
       "      <th>subject</th>\n",
       "      <th>from</th>\n",
       "      <th>body</th>\n",
       "    </tr>\n",
       "  </thead>\n",
       "  <tbody>\n",
       "    <tr>\n",
       "      <th>0</th>\n",
       "      <td>Fwd: Complete your profile and start mentoring</td>\n",
       "      <td>Mohamed Al-Ashmawy &lt;al_ashmawy@outlook.com&gt;</td>\n",
       "      <td>b'&lt;meta http-equiv=\"Content-Type\" content=\"tex...</td>\n",
       "    </tr>\n",
       "    <tr>\n",
       "      <th>1</th>\n",
       "      <td>Fwd: Your application for the Egypt FWD schola...</td>\n",
       "      <td>Mohamed Al-Ashmawy &lt;al_ashmawy@outlook.com&gt;</td>\n",
       "      <td>b'&lt;meta http-equiv=\"Content-Type\" content=\"tex...</td>\n",
       "    </tr>\n",
       "    <tr>\n",
       "      <th>2</th>\n",
       "      <td>Recovery email verified for your Google Account</td>\n",
       "      <td>Google &lt;no-reply@accounts.google.com&gt;</td>\n",
       "      <td>None</td>\n",
       "    </tr>\n",
       "    <tr>\n",
       "      <th>3</th>\n",
       "      <td>Security alert</td>\n",
       "      <td>Google &lt;no-reply@accounts.google.com&gt;</td>\n",
       "      <td>None</td>\n",
       "    </tr>\n",
       "    <tr>\n",
       "      <th>4</th>\n",
       "      <td>Help strengthen the security of your Google Ac...</td>\n",
       "      <td>Google &lt;no-reply@accounts.google.com&gt;</td>\n",
       "      <td>None</td>\n",
       "    </tr>\n",
       "    <tr>\n",
       "      <th>5</th>\n",
       "      <td>Security alert</td>\n",
       "      <td>Google &lt;no-reply@accounts.google.com&gt;</td>\n",
       "      <td>None</td>\n",
       "    </tr>\n",
       "    <tr>\n",
       "      <th>6</th>\n",
       "      <td>2-Step Verification turned on</td>\n",
       "      <td>Google &lt;no-reply@accounts.google.com&gt;</td>\n",
       "      <td>None</td>\n",
       "    </tr>\n",
       "  </tbody>\n",
       "</table>\n",
       "</div>"
      ],
      "text/plain": [
       "                                             subject  \\\n",
       "0     Fwd: Complete your profile and start mentoring   \n",
       "1  Fwd: Your application for the Egypt FWD schola...   \n",
       "2    Recovery email verified for your Google Account   \n",
       "3                                     Security alert   \n",
       "4  Help strengthen the security of your Google Ac...   \n",
       "5                                     Security alert   \n",
       "6                      2-Step Verification turned on   \n",
       "\n",
       "                                          from  \\\n",
       "0  Mohamed Al-Ashmawy <al_ashmawy@outlook.com>   \n",
       "1  Mohamed Al-Ashmawy <al_ashmawy@outlook.com>   \n",
       "2        Google <no-reply@accounts.google.com>   \n",
       "3        Google <no-reply@accounts.google.com>   \n",
       "4        Google <no-reply@accounts.google.com>   \n",
       "5        Google <no-reply@accounts.google.com>   \n",
       "6        Google <no-reply@accounts.google.com>   \n",
       "\n",
       "                                                body  \n",
       "0  b'<meta http-equiv=\"Content-Type\" content=\"tex...  \n",
       "1  b'<meta http-equiv=\"Content-Type\" content=\"tex...  \n",
       "2                                               None  \n",
       "3                                               None  \n",
       "4                                               None  \n",
       "5                                               None  \n",
       "6                                               None  "
      ]
     },
     "execution_count": 2,
     "metadata": {},
     "output_type": "execute_result"
    }
   ],
   "source": [
    "messages_df.head(10)"
   ]
  },
  {
   "cell_type": "markdown",
   "metadata": {},
   "source": [
    "### Data Cleaning"
   ]
  },
  {
   "cell_type": "code",
   "execution_count": 4,
   "metadata": {},
   "outputs": [
    {
     "name": "stdout",
     "output_type": "stream",
     "text": [
      "[\"b'\", 'Ashmawy from Android \\\\xc2\\\\xae\\\\xef\\\\xb8\\\\x8f', '---------- Forwarded message ----------', 'From: MicroMentor Support <support@micromentor.org>', 'Date: 17 Mar 2022 1:08 pm', 'Subject: Complete your profile and start mentoring', 'To: Muhammad Al-Ashmawy <al_ashmawy@outlook.com>', 'Cc: ', '\\\\r\\\\n', '\\\\r\\\\n\\\\r\\\\n\\\\r\\\\n\\\\r\\\\n', '\\\\r\\\\n  \\\\r\\\\n  Complete your profile and start mentoring\\\\r\\\\n\\\\r\\\\n', '\\\\r\\\\n\\\\r\\\\n\\\\r\\\\n\\\\r\\\\n', '\\\\r\\\\n      \\\\r\\\\n      ', '\\\\r\\\\n            ', '\\\\r\\\\n              ', '\\\\r\\\\n            ', '\\\\r\\\\n          ', '\\\\r\\\\n      \\\\r\\\\n    ', '\\\\r\\\\n      \\\\r\\\\n\\\\r\\\\n      \\\\r\\\\n      \\\\r\\\\n  ', '\\\\r\\\\n        ', '\\\\r\\\\n              ', '\\\\r\\\\n                    ', '\\\\r\\\\n                      Hi Muhammad Al-Ashmawy,\\\\r\\\\n                    ', '\\\\r\\\\n                    ', '\\\\r\\\\n                      Congratulations on taking the first step toward joining our community of more than 121,000 small\\\\r\\\\n                      business owners. ', 'Next, you need to complete your profile.', '\\\\r\\\\n                    ', '\\\\r\\\\n                  ', '\\\\r\\\\n            ', '\\\\r\\\\n              \\\\r\\\\n              ', '\\\\r\\\\n                    ', '\\\\r\\\\n                          ', '\\\\r\\\\n                            Complete your profile now\\\\r\\\\n                          ', '\\\\r\\\\n                        ', '\\\\r\\\\n                  ', '\\\\r\\\\n            ', '\\\\r\\\\n              ', '\\\\r\\\\n                    ', '\\\\r\\\\n                      Once your profile is complete, you can start searching through more than 45,000 mentors from 150+\\\\r\\\\n                      countries and regions including:\\\\r\\\\n                    ', '\\\\r\\\\n                    ', 'North America', 'South Asia', 'Middle East & Africa', 'Africa', 'Latin America', 'Europe', '\\\\r\\\\n                    ', '\\\\r\\\\n                      On average, entrepreneurs on MicroMentor receive ', '12 hours of free mentoring', '.\\\\r\\\\n                      Finish your profile to get started today.\\\\r\\\\n                    ', '\\\\r\\\\n                  ', '\\\\r\\\\n            ', '\\\\r\\\\n              ', '\\\\r\\\\n                ', '\\\\r\\\\n              ', '\\\\r\\\\n            ', '\\\\r\\\\n              ', '\\\\r\\\\n                    ', \"\\\\r\\\\n                      Become a part of the world\\\\'s largest community of entrepreneurs and experienced business mentors\\\\r\\\\n                      and help your business grow and succeed.\\\\r\\\\n                    \", '\\\\r\\\\n                  ', '\\\\r\\\\n            ', '\\\\r\\\\n              \\\\r\\\\n              ', '\\\\r\\\\n                    ', '\\\\r\\\\n                          ', '\\\\r\\\\n                            Complete your profile\\\\r\\\\n                          ', '\\\\r\\\\n                        ', '\\\\r\\\\n                  ', '\\\\r\\\\n            ', '\\\\r\\\\n      ', '\\\\r\\\\n  \\\\r\\\\n\\\\r\\\\n      \\\\r\\\\n\\\\r\\\\n  \\\\r\\\\n  ', '\\\\r\\\\n      \\\\r\\\\n\\\\r\\\\n      ', '\\\\r\\\\n            MicroMentor 45 SW Ankeny St, Portland, OR 97204 USA\\\\r\\\\n            ', '\\\\r\\\\n            \\\\r\\\\n              ', 'Update Contact Settings', '\\\\r\\\\n              ', '\\\\r\\\\n            \\\\r\\\\n            ', 'Help Center', '\\\\r\\\\n            ', '\\\\r\\\\n            ', '\\\\r\\\\n            ', '\\\\r\\\\n                ', '\\\\r\\\\n                  ', '\\\\r\\\\n                ', '\\\\r\\\\n                  ', '\\\\r\\\\n                ', '\\\\r\\\\n                  ', '\\\\r\\\\n          ', '\\\\r\\\\n\\\\r\\\\n      ', '\\\\r\\\\n        Got a queston? Reply to this email.\\\\r\\\\n      ', '\\\\r\\\\n    ', '\\\\r\\\\n\\\\r\\\\n\\\\r\\\\n\\\\r\\\\n\\\\r\\\\n', '\\\\r\\\\n\\\\r\\\\n\\\\r\\\\n', \"'\", \"b'\", 'Ashmawy from Android \\\\xc2\\\\xae\\\\xef\\\\xb8\\\\x8f', '---------- Forwarded message ----------', 'From: Udacity Scholarships Team <support@udacity.com>', 'Date: 19 Mar 2022 6:47 am', 'Subject: Your application for the Egypt FWD scholarship program has been received!', 'To: Muhammad Al-Ashmawy <al_ashmawy@outlook.com>', 'Cc: ', '\\\\r\\\\n    \\\\r\\\\n    \\\\r\\\\n    ', '\\\\r\\\\n          ', '\\\\r\\\\n            ', '\\\\r\\\\n              ', 'Your application for the Egypt Future Work is Digital free scholarship program has been received. You can still edit your application until the deadline of April 1\\\\xe2\\\\x80\\\\x8d5, 20\\\\xe2\\\\x80\\\\x8d22.', '\\\\r\\\\n              \\\\r\\\\n              ', '\\\\r\\\\n                    ', '\\\\r\\\\n                          ', '\\\\r\\\\n', ' ', '\\\\r\\\\n\\\\r\\\\n\\\\r\\\\n\\\\r\\\\n', '\\\\r\\\\n                        ', '\\\\r\\\\n                  ', '\\\\r\\\\n                    ', '\\\\r\\\\n                       \\\\r\\\\n                          ', '\\\\r\\\\n                              \\\\r\\\\n                                ', '\\\\r\\\\n                                  ', '\\\\r\\\\n                                        ', 'Thank you for applying to Egypt Future Work is Digital free scholarship program,  Muhammad!', '\\\\r\\\\n                                        ', \"We\\\\'re writing to confirm that your application for the \", '\\\\r\\\\n Egypt FWD\\\\r\\\\n                                           specialization course ', ' of the Egypt Future Work is Digital free scholarship program has been received. \\\\r\\\\n', '\\\\r\\\\n  \\\\r\\\\n                            \\\\r\\\\n                                        ', 'You can still edit your application until the deadline of Apr\\\\xe2\\\\x80\\\\x8dil 1\\\\xe2\\\\x80\\\\x8d5, 20\\\\xe2\\\\x80\\\\x8d22. ', '        \\\\r\\\\n                                      ', '\\\\r\\\\n                                ', '\\\\r\\\\n                              \\\\r\\\\n                              ', '\\\\r\\\\n                              \\\\r\\\\n                                ', '\\\\r\\\\n\\\\t\\\\t\\\\t', '\\\\r\\\\n\\\\t\\\\t\\\\t', '\\\\r\\\\n\\\\t\\\\t\\\\t\\\\t\\\\t\\\\t', 'EDIT APPLICATION', '\\\\r\\\\n\\\\t\\\\t\\\\t\\\\t\\\\t\\\\t', '\\\\r\\\\n\\\\t\\\\t\\\\t', '\\\\r\\\\n\\\\t\\\\t\\\\t', '\\\\r\\\\n', '\\\\r\\\\n                              \\\\r\\\\n                              ', '\\\\r\\\\n                              \\\\r\\\\n                                ', '\\\\r\\\\n                                  ', '\\\\r\\\\n                                        ', 'Questions? Reach out to ', ' fwd-support@udacity.com', '.', '\\\\r\\\\n                                         \\\\r\\\\n                                        ', 'Best regards,', ' The Udacity Team', '\\\\r\\\\n                                      ', '\\\\r\\\\n                                ', '\\\\r\\\\n                              \\\\r\\\\n                              ', '\\\\r\\\\n\\\\t\\\\t\\\\t\\\\t\\\\t\\\\t\\\\t\\\\t ', ' \\\\r\\\\n\\\\t\\\\t\\\\t\\\\t\\\\t\\\\t\\\\t\\\\t', '\\\\r\\\\n                        ', '\\\\r\\\\n                  ', '\\\\r\\\\n                    ', '\\\\r\\\\n                          ', '\\\\r\\\\n                        ', '\\\\r\\\\n                          ', '\\\\r\\\\n                        ', '\\\\r\\\\n                          ', '\\\\r\\\\n                        ', '\\\\r\\\\n                          ', '\\\\r\\\\n                        ', '\\\\r\\\\n                  ', '\\\\r\\\\n                    ', '\\\\r\\\\n                          ', '\\\\xc2\\\\xa9 2\\\\xe2\\\\x80\\\\x8d02\\\\xe2\\\\x80\\\\x8d2 U\\\\xe2\\\\x80\\\\x8dda\\\\xe2\\\\x80\\\\x8dci\\\\xe2\\\\x80\\\\x8dty, I\\\\xe2\\\\x80\\\\x8dnc. \\xa0\\\\xe2\\\\x80\\\\xa2\\xa0 2440 W \\\\xe2\\\\x80\\\\x8dEl Cam\\\\xe2\\\\x80\\\\x8dino Real \\xa0 \\\\xe2\\\\x80\\\\xa2 \\xa0Mou\\\\xe2\\\\x80\\\\x8dntain V\\\\xe2\\\\x80\\\\x8diew, C\\\\xe2\\\\x80\\\\x8dA 94\\\\xe2\\\\x80\\\\x8d040', '\\\\r\\\\n                          \\\\r\\\\n                          \\\\r\\\\n                          ', \"You\\\\'ve received this email because you created an account with us and are signed up to receive email updates from Udacity.\", '\\\\r\\\\n                          \\\\r\\\\n                          ', 'Update your email preferences to choose what types of emails you receive', '\\\\r\\\\n                          ', 'Unsubscribe from all marketing emails', '\\\\r\\\\n                        ', '\\\\r\\\\n                  ', '\\\\r\\\\n              ', '\\\\r\\\\n                    ', 'Be in demand', '\\\\r\\\\n                  ', '\\\\r\\\\n            ', '\\\\r\\\\n          \\\\r\\\\n        \\\\r\\\\n      \\\\r\\\\n    \\\\r\\\\n  \\\\r\\\\n\\\\r\\\\n', '\\\\r\\\\n', \"'\", 'None', 'None', 'None', 'None', 'None']\n"
     ]
    }
   ],
   "source": [
    "print(all_data)"
   ]
  },
  {
   "cell_type": "code",
   "execution_count": 11,
   "metadata": {},
   "outputs": [
    {
     "name": "stdout",
     "output_type": "stream",
     "text": [
      "[]\n"
     ]
    }
   ],
   "source": []
  },
  {
   "cell_type": "code",
   "execution_count": 8,
   "metadata": {},
   "outputs": [
    {
     "name": "stdout",
     "output_type": "stream",
     "text": [
      "b'<meta http-equiv=\"Content-Type\" content=\"text/html; charset=utf-8\"><div dir=\"auto\"><br><br><div data-smartmail=\"gmail_signature\">Ashmawy from Android \\xc2\\xae\\xef\\xb8\\x8f</div></div><div class=\"gmail_quote\">---------- Forwarded message ----------<br>From: MicroMentor Support &lt;support@micromentor.org&gt;<br>Date: 17 Mar 2022 1:08 pm<br>Subject: Complete your profile and start mentoring<br>To: Muhammad Al-Ashmawy &lt;al_ashmawy@outlook.com&gt;<br>Cc: <br><br type=\"attribution\"><blockquote class=\"quote\" style=\"margin:0 0 0 .8ex;border-left:1px #ccc solid;padding-left:1ex\"><div dir=\"ltr\" style=\"margin:0 !important;padding:0 !important\">\\r\\n<div style=\"font-size:0px;border:0;max-height:1px;width:1px;margin:0px;padding:0px;border-width:0px !important;display:none !important;line-height:0px !important\"><img border=\"0\" width=\"1\" height=\"1\" src=\"http://post.spmailtechnol.com/q/OOBbMewQCnvxbwhQ8-qzuw~~/AACYVgA~/RgRkFZu8PVcDc3BjQgpiKrwWM2Jur6neUhZhbF9hc2htYXd5QG91dGxvb2suY29tWAQAAAAA\" alt=\"\"></div>\\r\\n\\r\\n\\r\\n\\r\\n<div style=\"display:none;font-size:1px;color:#fefefe;line-height:1px;font-family:\\'helvetica\\' , \\'arial\\' , sans-serif;max-height:0px;max-width:0px\">\\r\\n  \\r\\n  Complete your profile and start mentoring\\r\\n\\r\\n</div>\\r\\n\\r\\n\\r\\n\\r\\n<table border=\"0\" cellpadding=\"0\" cellspacing=\"0\" width=\"100%\"><tbody><tr><td bgcolor=\"#ffffff\" align=\"center\">\\r\\n      \\r\\n      <table border=\"0\" cellpadding=\"0\" cellspacing=\"0\" width=\"100%\" style=\"max-width:500px\"><tbody><tr><td valign=\"top\" style=\"padding:15px 0\">\\r\\n            <a href=\"http://post.spmailtechnol.com/f/a/UYxgqzhIc7ax_P859rrQTg~~/AACYVgA~/RgRkFZu8P0QbaHR0cHM6Ly93d3cubWljcm9tZW50b3Iub3JnVwNzcGNCCmIqvBYzYm6vqd5SFmFsX2FzaG1hd3lAb3V0bG9vay5jb21YBAAAAAA~\">\\r\\n              <img src=\"https://assets.micromentor.org/static/img/email/micromentor_logo.0ff58771213c.png\" style=\"display:block;font-family:\\'helvetica\\' , \\'arial\\' , sans-serif;color:#ffffff;font-size:16px;max-height:60px\" border=\"0\" alt=\"MicroMentor\">\\r\\n            </a>\\r\\n          </td></tr></tbody></table>\\r\\n      \\r\\n    </td></tr><tr><td bgcolor=\"#FCFCFC\" align=\"center\" style=\"padding:70px 15px 70px 15px\">\\r\\n      \\r\\n\\r\\n      \\r\\n      \\r\\n  <table border=\"0\" cellpadding=\"0\" cellspacing=\"0\" width=\"100%\" style=\"max-width:500px\"><tbody><tr><td>\\r\\n        <table width=\"100%\" border=\"0\" cellspacing=\"0\" cellpadding=\"0\"><tbody><tr><td>\\r\\n              <table width=\"100%\" border=\"0\" cellspacing=\"0\" cellpadding=\"0\"><tbody><tr><td style=\"padding:20px 0 0 0;font-size:16px;line-height:25px;font-family:\\'helvetica\\' , \\'arial\\' , sans-serif;color:#666666\">\\r\\n                    <p>\\r\\n                      Hi Muhammad Al-Ashmawy,\\r\\n                    </p>\\r\\n                    <p>\\r\\n                      Congratulations on taking the first step toward joining our community of more than 121,000 small\\r\\n                      business owners. <b>Next, you need to complete your profile.</b>\\r\\n                    </p>\\r\\n                  </td></tr></tbody></table>\\r\\n            </td></tr><tr><td align=\"center\">\\r\\n              \\r\\n              <table width=\"100%\" border=\"0\" cellspacing=\"0\" cellpadding=\"0\"><tbody><tr><td align=\"center\" style=\"padding-top:25px\">\\r\\n                    <table border=\"0\" cellspacing=\"0\" cellpadding=\"0\"><tbody><tr><td align=\"center\" style=\"border-radius:3px\" bgcolor=\"#048cff\">\\r\\n                          <a href=\"http://post.spmailtechnol.com/f/a/JkTj8ewg1hSt94Q-eiN7sg~~/AACYVgA~/RgRkFZu8P4QPAWh0dHBzOi8vd3d3Lm1pY3JvbWVudG9yLm9yZy9zaWdudXAvZW50cmVwcmVuZXVyL2NvZGUtb2YtY29uZHVjdD9lbWFpbF92ZXJpZmljYXRpb249JTVCMTM3NTQ5OSUyQyslMjJhbF9hc2htYXd5JTQwb3V0bG9vay5jb20lMjIlNUQlM0ExblVuem4lM0FGYzVDLUEwVnYzMXZoRkpnMGdyaFo2Qm11OF9oVFRuREVhMXduTU9rY1lzJnV0bV9jYW1wYWlnbj1zaWdudXAmdXRtX21lZGl1bT1pbW1lZGlhdGUmdXRtX3NvdXJjZT1lbnRyZXByZW5ldXImdXRtX2NvbnRlbnQ9Y29tcGxldGVXA3NwY0IKYiq8FjNibq-p3lIWYWxfYXNobWF3eUBvdXRsb29rLmNvbVgEAAAAAA~~\" style=\"font-size:16px;font-family:\\'helvetica\\' , \\'arial\\' , sans-serif;color:#ffffff;text-decoration:none;color:#ffffff;text-decoration:none;border-radius:3px;padding:15px 25px;border:1px solid #048cff;display:inline-block\">\\r\\n                            Complete your profile now\\r\\n                          </a>\\r\\n                        </td></tr></tbody></table>\\r\\n                  </td></tr></tbody></table>\\r\\n            </td></tr><tr><td>\\r\\n              <table width=\"100%\" border=\"0\" cellspacing=\"0\" cellpadding=\"0\"><tbody><tr><td style=\"padding:20px 0 0 0;font-size:16px;line-height:25px;font-family:\\'helvetica\\' , \\'arial\\' , sans-serif;color:#666666\">\\r\\n                    <p>\\r\\n                      Once your profile is complete, you can start searching through more than 45,000 mentors from 150+\\r\\n                      countries and regions including:\\r\\n                    </p>\\r\\n                    <ul><li>North America</li><li>South Asia</li><li>Middle East &amp; Africa</li><li>Africa</li><li>Latin America</li><li>Europe</li></ul>\\r\\n                    <p>\\r\\n                      On average, entrepreneurs on MicroMentor receive <b>12 hours of free mentoring</b>.\\r\\n                      Finish your profile to get started today.\\r\\n                    </p>\\r\\n                  </td></tr></tbody></table>\\r\\n            </td></tr><tr><td align=\"center\">\\r\\n              <a href=\"http://post.spmailtechnol.com/f/a/JkTj8ewg1hSt94Q-eiN7sg~~/AACYVgA~/RgRkFZu8P4QPAWh0dHBzOi8vd3d3Lm1pY3JvbWVudG9yLm9yZy9zaWdudXAvZW50cmVwcmVuZXVyL2NvZGUtb2YtY29uZHVjdD9lbWFpbF92ZXJpZmljYXRpb249JTVCMTM3NTQ5OSUyQyslMjJhbF9hc2htYXd5JTQwb3V0bG9vay5jb20lMjIlNUQlM0ExblVuem4lM0FGYzVDLUEwVnYzMXZoRkpnMGdyaFo2Qm11OF9oVFRuREVhMXduTU9rY1lzJnV0bV9jYW1wYWlnbj1zaWdudXAmdXRtX21lZGl1bT1pbW1lZGlhdGUmdXRtX3NvdXJjZT1lbnRyZXByZW5ldXImdXRtX2NvbnRlbnQ9Y29tcGxldGVXA3NwY0IKYiq8FjNibq-p3lIWYWxfYXNobWF3eUBvdXRsb29rLmNvbVgEAAAAAA~~\">\\r\\n                <img src=\"https://assets.micromentor.org/static/img/email/experiments/campaign3-email1.b683ebade8ef.png\" width=\"500\" height=\"558\" border=\"0\" alt=\"150+ Countries, 45,000+ Mentors\" style=\"display:block;padding:0;color:#666666;text-decoration:none;font-family:\\'helvetica\\' , \\'arial\\' , sans-serif;font-size:16px\">\\r\\n              </a>\\r\\n            </td></tr><tr><td>\\r\\n              <table width=\"100%\" border=\"0\" cellspacing=\"0\" cellpadding=\"0\"><tbody><tr><td style=\"padding:20px 0 0 0;font-size:16px;line-height:25px;font-family:\\'helvetica\\' , \\'arial\\' , sans-serif;color:#666666\">\\r\\n                    <p>\\r\\n                      Become a part of the world\\'s largest community of entrepreneurs and experienced business mentors\\r\\n                      and help your business grow and succeed.\\r\\n                    </p>\\r\\n                  </td></tr></tbody></table>\\r\\n            </td></tr><tr><td align=\"center\">\\r\\n              \\r\\n              <table width=\"100%\" border=\"0\" cellspacing=\"0\" cellpadding=\"0\"><tbody><tr><td align=\"center\" style=\"padding-top:25px\">\\r\\n                    <table border=\"0\" cellspacing=\"0\" cellpadding=\"0\"><tbody><tr><td align=\"center\" style=\"border-radius:3px\" bgcolor=\"#048cff\">\\r\\n                          <a href=\"http://post.spmailtechnol.com/f/a/JkTj8ewg1hSt94Q-eiN7sg~~/AACYVgA~/RgRkFZu8P4QPAWh0dHBzOi8vd3d3Lm1pY3JvbWVudG9yLm9yZy9zaWdudXAvZW50cmVwcmVuZXVyL2NvZGUtb2YtY29uZHVjdD9lbWFpbF92ZXJpZmljYXRpb249JTVCMTM3NTQ5OSUyQyslMjJhbF9hc2htYXd5JTQwb3V0bG9vay5jb20lMjIlNUQlM0ExblVuem4lM0FGYzVDLUEwVnYzMXZoRkpnMGdyaFo2Qm11OF9oVFRuREVhMXduTU9rY1lzJnV0bV9jYW1wYWlnbj1zaWdudXAmdXRtX21lZGl1bT1pbW1lZGlhdGUmdXRtX3NvdXJjZT1lbnRyZXByZW5ldXImdXRtX2NvbnRlbnQ9Y29tcGxldGVXA3NwY0IKYiq8FjNibq-p3lIWYWxfYXNobWF3eUBvdXRsb29rLmNvbVgEAAAAAA~~\" style=\"font-size:16px;font-family:\\'helvetica\\' , \\'arial\\' , sans-serif;color:#ffffff;text-decoration:none;color:#ffffff;text-decoration:none;border-radius:3px;padding:15px 25px;border:1px solid #048cff;display:inline-block\">\\r\\n                            Complete your profile\\r\\n                          </a>\\r\\n                        </td></tr></tbody></table>\\r\\n                  </td></tr></tbody></table>\\r\\n            </td></tr></tbody></table>\\r\\n      </td></tr></tbody></table>\\r\\n  \\r\\n\\r\\n      \\r\\n\\r\\n  \\r\\n  <table><tbody><tr><td bgcolor=\"#f4f6f8\" align=\"center\" style=\"padding:20px 0px\">\\r\\n      \\r\\n\\r\\n      <table width=\"100%\" border=\"0\" cellspacing=\"0\" cellpadding=\"0\" align=\"center\" style=\"max-width:500px\"><tbody><tr><td align=\"center\" style=\"font-size:12px;line-height:18px;font-family:\\'helvetica\\' , \\'arial\\' , sans-serif;color:#666666\">\\r\\n            MicroMentor 45 SW Ankeny St, Portland, OR 97204 USA\\r\\n            <br>\\r\\n            \\r\\n              <a href=\"http://post.spmailtechnol.com/f/a/wLEEhXXpiIFR9qwxskN5fg~~/AACYVgA~/RgRkFZu8P4RVAWh0dHBzOi8vd3d3Lm1pY3JvbWVudG9yLm9yZy9tYW5hZ2UtZW1haWwtcHJlZnM_ZW1haWxfdmVyaWZpY2F0aW9uPSU1QjEzNzU0OTklMkMrJTIyYWxfYXNobWF3eSU0MG91dGxvb2suY29tJTIyJTVEJTNBMW5VbnpuJTNBRmM1Qy1BMFZ2MzF2aEZKZzBncmhaNkJtdThfaFRUbkRFYTF3bk1Pa2NZcyZ1dG1fY2FtcGFpZ249c2lnbnVwJnV0bV9tZWRpdW09aW1tZWRpYXRlJnV0bV9zb3VyY2U9ZW50cmVwcmVuZXVyJnRva2VuPVd6RXpOelUwT1Rrc0ltRnNYMkZ6YUcxaGQzbEFiM1YwYkc5dmF5NWpiMjBpWFElM0ExblVuem4lM0FRZ2pDc3F1RFhsWGt6Ri02UjQ3WVRSQS1lc2U0MS1DTkE1U25QUzVYMUtRVwNzcGNCCmIqvBYzYm6vqd5SFmFsX2FzaG1hd3lAb3V0bG9vay5jb21YBAAAAAA~\">Update Contact Settings</a>\\r\\n              <br>\\r\\n            \\r\\n            <a href=\"http://post.spmailtechnol.com/f/a/lBV7qthlgHyPEBbH9oMM-A~~/AACYVgA~/RgRkFZu8P0TiaHR0cHM6Ly93d3cubWljcm9tZW50b3Iub3JnL2hlbHAtY2VudGVyP2VtYWlsX3ZlcmlmaWNhdGlvbj0lNUIxMzc1NDk5JTJDKyUyMmFsX2FzaG1hd3klNDBvdXRsb29rLmNvbSUyMiU1RCUzQTFuVW56biUzQUZjNUMtQTBWdjMxdmhGSmcwZ3JoWjZCbXU4X2hUVG5ERWExd25NT2tjWXMmdXRtX2NhbXBhaWduPXNpZ251cCZ1dG1fbWVkaXVtPWltbWVkaWF0ZSZ1dG1fc291cmNlPWVudHJlcHJlbmV1clcDc3BjQgpiKrwWM2Jur6neUhZhbF9hc2htYXd5QG91dGxvb2suY29tWAQAAAAA\">Help Center</a>\\r\\n            <br>\\r\\n            <br>\\r\\n            <table cellpadding=\"10\"><tbody><tr><td><a href=\"http://post.spmailtechnol.com/f/a/-UDl4Dkr97S8kpHKqhmO0A~~/AACYVgA~/RgRkFZu8P0QoaHR0cHM6Ly93d3cuZmFjZWJvb2suY29tL21pY3JvbWVudG9yLm9yZ1cDc3BjQgpiKrwWM2Jur6neUhZhbF9hc2htYXd5QG91dGxvb2suY29tWAQAAAAA\"><img src=\"https://assets.micromentor.org/static/img/email/facebook_small.a21b934c28a6.png\" width=\"25\" height=\"25\" alt=\"Facebook\" style=\"display:block;font-family:\\'helvetica\\' , \\'arial\\' , sans-serif;color:#ffffff;font-size:16px\" border=\"0\"></a>\\r\\n                </td><td>\\r\\n                  <a href=\"http://post.spmailtechnol.com/f/a/Qyd5d4Y4w0zHCy8GmlsU8g~~/AACYVgA~/RgRkFZu8P0QsaHR0cHM6Ly93d3cubGlua2VkaW4uY29tL2NvbXBhbnkvbWljcm9tZW50b3JXA3NwY0IKYiq8FjNibq-p3lIWYWxfYXNobWF3eUBvdXRsb29rLmNvbVgEAAAAAA~~\"><img src=\"https://assets.micromentor.org/static/img/email/linkedIn_small.c2936146f39c.png\" width=\"25\" height=\"25\" alt=\"LinkedIn\" style=\"display:block;font-family:\\'helvetica\\' , \\'arial\\' , sans-serif;color:#ffffff;font-size:16px\" border=\"0\"></a>\\r\\n                </td><td>\\r\\n                  <a href=\"http://post.spmailtechnol.com/f/a/qR_lS6YtxNBFbYqOJNMgLw~~/AACYVgA~/RgRkFZu8P0QqaHR0cHM6Ly93d3cuaW5zdGFncmFtLmNvbS9taWNyb21lbnRvcl9vcmcvVwNzcGNCCmIqvBYzYm6vqd5SFmFsX2FzaG1hd3lAb3V0bG9vay5jb21YBAAAAAA~\"><img src=\"https://assets.micromentor.org/static/img/email/instagram_small.d62450403bdd.png\" width=\"25\" height=\"25\" alt=\"Instagram\" style=\"display:block;font-family:\\'helvetica\\' , \\'arial\\' , sans-serif;color:#ffffff;font-size:16px\" border=\"0\"></a>\\r\\n                </td><td>\\r\\n                  <a href=\"http://post.spmailtechnol.com/f/a/KmWbz7FNc7IKENEqcfSHoQ~~/AACYVgA~/RgRkFZu8P0QfaHR0cHM6Ly90d2l0dGVyLmNvbS9NaWNyb01lbnRvclcDc3BjQgpiKrwWM2Jur6neUhZhbF9hc2htYXd5QG91dGxvb2suY29tWAQAAAAA\"><img src=\"https://assets.micromentor.org/static/img/email/twitter_small.1ea4ab10b68b.png\" width=\"25\" height=\"25\" alt=\"Twitter\" style=\"display:block;font-family:\\'helvetica\\' , \\'arial\\' , sans-serif;color:#ffffff;font-size:16px\" border=\"0\"></a></td></tr></tbody></table>\\r\\n          </td></tr></tbody></table>\\r\\n\\r\\n      <p style=\"font-size:12px;line-height:18px;font-family:\\'helvetica\\' , \\'arial\\' , sans-serif;color:#666666\">\\r\\n        Got a queston? Reply to this email.\\r\\n      </p>\\r\\n    </td></tr></tbody></table>\\r\\n\\r\\n\\r\\n\\r\\n\\r\\n<img border=\"0\" width=\"1\" height=\"1\" alt=\"\" src=\"http://post.spmailtechnol.com/q/ma5xlTiXlmI2KgQ-PqsKDg~~/AACYVgA~/RgRkFZu8PlcDc3BjQgpiKrwWM2Jur6neUhZhbF9hc2htYXd5QG91dGxvb2suY29tWAQAAAAA\">\\r\\n\\r\\n\\r\\n</td></tr></tbody></table></div></blockquote></div><br>'\n"
     ]
    }
   ],
   "source": [
    "print(messages_df['body'][0])"
   ]
  },
  {
   "cell_type": "markdown",
   "metadata": {},
   "source": [
    "<a id='eda'></a>\n",
    "## Exploratory Data Analysis\n",
    "\n",
    "### Research Question 1 (Replace this header name!)"
   ]
  },
  {
   "cell_type": "code",
   "execution_count": null,
   "metadata": {
    "collapsed": true
   },
   "outputs": [],
   "source": [
    "# Use this, and more code cells, to explore your data. Don't forget to add\n",
    "#   Markdown cells to document your observations and findings.\n"
   ]
  },
  {
   "cell_type": "markdown",
   "metadata": {},
   "source": [
    "### Research Question 2  (Replace this header name!)"
   ]
  },
  {
   "cell_type": "code",
   "execution_count": null,
   "metadata": {
    "collapsed": true
   },
   "outputs": [],
   "source": [
    "# Continue to explore the data to address your additional research\n",
    "#   questions. Add more headers as needed if you have more questions to\n",
    "#   investigate.\n"
   ]
  },
  {
   "cell_type": "markdown",
   "metadata": {},
   "source": [
    "<a id='conclusions'></a>\n",
    "## Conclusions"
   ]
  },
  {
   "cell_type": "code",
   "execution_count": null,
   "metadata": {
    "collapsed": true
   },
   "outputs": [],
   "source": []
  }
 ],
 "metadata": {
  "kernelspec": {
   "display_name": "Python [default]",
   "language": "python",
   "name": "python3"
  },
  "language_info": {
   "codemirror_mode": {
    "name": "ipython",
    "version": 3
   },
   "file_extension": ".py",
   "mimetype": "text/x-python",
   "name": "python",
   "nbconvert_exporter": "python",
   "pygments_lexer": "ipython3",
   "version": "3.9.7"
  }
 },
 "nbformat": 4,
 "nbformat_minor": 2
}
