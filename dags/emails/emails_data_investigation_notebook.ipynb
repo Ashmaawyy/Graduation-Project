{
 "cells": [
  {
   "cell_type": "markdown",
   "metadata": {},
   "source": [
    "# Project: Investigate Email Messages Dataset\n",
    "\n",
    "## Table of Contents\n",
    "<ul>\n",
    "<li><a href=\"#intro\">Introduction</a></li>\n",
    "<li><a href=\"#wrangling\">Data Wrangling</a></li>\n",
    "<li><a href=\"#eda\">Exploratory Data Analysis</a></li>\n",
    "<li><a href=\"#conclusions\">Conclusions</a></li>\n",
    "</ul>"
   ]
  },
  {
   "cell_type": "markdown",
   "metadata": {},
   "source": [
    "<a id='intro'></a>\n",
    "## Introduction\n"
   ]
  },
  {
   "cell_type": "code",
   "execution_count": 1,
   "metadata": {
    "collapsed": true
   },
   "outputs": [
    {
     "name": "stdout",
     "output_type": "stream",
     "text": [
      "Messages saved into a dataframe successfully :)\n"
     ]
    }
   ],
   "source": [
    "from email_handler import *\n",
    "from email_analyzer import *"
   ]
  },
  {
   "cell_type": "markdown",
   "metadata": {},
   "source": [
    "<a id='wrangling'></a>\n",
    "## Data Wrangling\n",
    "\n",
    "### General Properties"
   ]
  },
  {
   "cell_type": "code",
   "execution_count": 2,
   "metadata": {},
   "outputs": [
    {
     "data": {
      "text/html": [
       "<div>\n",
       "<style scoped>\n",
       "    .dataframe tbody tr th:only-of-type {\n",
       "        vertical-align: middle;\n",
       "    }\n",
       "\n",
       "    .dataframe tbody tr th {\n",
       "        vertical-align: top;\n",
       "    }\n",
       "\n",
       "    .dataframe thead th {\n",
       "        text-align: right;\n",
       "    }\n",
       "</style>\n",
       "<table border=\"1\" class=\"dataframe\">\n",
       "  <thead>\n",
       "    <tr style=\"text-align: right;\">\n",
       "      <th></th>\n",
       "      <th>subject</th>\n",
       "      <th>from</th>\n",
       "      <th>body</th>\n",
       "    </tr>\n",
       "  </thead>\n",
       "  <tbody>\n",
       "    <tr>\n",
       "      <th>0</th>\n",
       "      <td>Security alert</td>\n",
       "      <td>Google &lt;no-reply@accounts.google.com&gt;</td>\n",
       "      <td>None</td>\n",
       "    </tr>\n",
       "    <tr>\n",
       "      <th>1</th>\n",
       "      <td>Security alert</td>\n",
       "      <td>Google &lt;no-reply@accounts.google.com&gt;</td>\n",
       "      <td>None</td>\n",
       "    </tr>\n",
       "    <tr>\n",
       "      <th>2</th>\n",
       "      <td>Fwd: Complete your profile and start mentoring</td>\n",
       "      <td>Mohamed Al-Ashmawy &lt;al_ashmawy@outlook.com&gt;</td>\n",
       "      <td>b'&lt;meta http-equiv=\"Content-Type\" content=\"tex...</td>\n",
       "    </tr>\n",
       "    <tr>\n",
       "      <th>3</th>\n",
       "      <td>Fwd: Your application for the Egypt FWD schola...</td>\n",
       "      <td>Mohamed Al-Ashmawy &lt;al_ashmawy@outlook.com&gt;</td>\n",
       "      <td>b'&lt;meta http-equiv=\"Content-Type\" content=\"tex...</td>\n",
       "    </tr>\n",
       "    <tr>\n",
       "      <th>4</th>\n",
       "      <td>Recovery email verified for your Google Account</td>\n",
       "      <td>Google &lt;no-reply@accounts.google.com&gt;</td>\n",
       "      <td>None</td>\n",
       "    </tr>\n",
       "    <tr>\n",
       "      <th>5</th>\n",
       "      <td>Security alert</td>\n",
       "      <td>Google &lt;no-reply@accounts.google.com&gt;</td>\n",
       "      <td>None</td>\n",
       "    </tr>\n",
       "    <tr>\n",
       "      <th>6</th>\n",
       "      <td>Help strengthen the security of your Google Ac...</td>\n",
       "      <td>Google &lt;no-reply@accounts.google.com&gt;</td>\n",
       "      <td>None</td>\n",
       "    </tr>\n",
       "    <tr>\n",
       "      <th>7</th>\n",
       "      <td>Security alert</td>\n",
       "      <td>Google &lt;no-reply@accounts.google.com&gt;</td>\n",
       "      <td>None</td>\n",
       "    </tr>\n",
       "    <tr>\n",
       "      <th>8</th>\n",
       "      <td>2-Step Verification turned on</td>\n",
       "      <td>Google &lt;no-reply@accounts.google.com&gt;</td>\n",
       "      <td>None</td>\n",
       "    </tr>\n",
       "  </tbody>\n",
       "</table>\n",
       "</div>"
      ],
      "text/plain": [
       "                                             subject  \\\n",
       "0                                     Security alert   \n",
       "1                                     Security alert   \n",
       "2     Fwd: Complete your profile and start mentoring   \n",
       "3  Fwd: Your application for the Egypt FWD schola...   \n",
       "4    Recovery email verified for your Google Account   \n",
       "5                                     Security alert   \n",
       "6  Help strengthen the security of your Google Ac...   \n",
       "7                                     Security alert   \n",
       "8                      2-Step Verification turned on   \n",
       "\n",
       "                                          from  \\\n",
       "0        Google <no-reply@accounts.google.com>   \n",
       "1        Google <no-reply@accounts.google.com>   \n",
       "2  Mohamed Al-Ashmawy <al_ashmawy@outlook.com>   \n",
       "3  Mohamed Al-Ashmawy <al_ashmawy@outlook.com>   \n",
       "4        Google <no-reply@accounts.google.com>   \n",
       "5        Google <no-reply@accounts.google.com>   \n",
       "6        Google <no-reply@accounts.google.com>   \n",
       "7        Google <no-reply@accounts.google.com>   \n",
       "8        Google <no-reply@accounts.google.com>   \n",
       "\n",
       "                                                body  \n",
       "0                                               None  \n",
       "1                                               None  \n",
       "2  b'<meta http-equiv=\"Content-Type\" content=\"tex...  \n",
       "3  b'<meta http-equiv=\"Content-Type\" content=\"tex...  \n",
       "4                                               None  \n",
       "5                                               None  \n",
       "6                                               None  \n",
       "7                                               None  \n",
       "8                                               None  "
      ]
     },
     "execution_count": 2,
     "metadata": {},
     "output_type": "execute_result"
    }
   ],
   "source": [
    "messages_df.head(10)"
   ]
  },
  {
   "cell_type": "markdown",
   "metadata": {},
   "source": [
    "### Data Cleaning"
   ]
  },
  {
   "cell_type": "code",
   "execution_count": 3,
   "metadata": {},
   "outputs": [
    {
     "name": "stdout",
     "output_type": "stream",
     "text": [
      "['None', 'None', \"b'\", 'Ashmawy from Android \\\\xc2\\\\xae\\\\xef\\\\xb8\\\\x8f', '---------- Forwarded message ----------', 'From: MicroMentor Support <support@micromentor.org>', 'Date: 17 Mar 2022 1:08 pm', 'Subject: Complete your profile and start mentoring', 'To: Muhammad Al-Ashmawy <al_ashmawy@outlook.com>', 'Cc: ', '\\\\r\\\\n', '\\\\r\\\\n\\\\r\\\\n\\\\r\\\\n\\\\r\\\\n', '\\\\r\\\\n  \\\\r\\\\n  Complete your profile and start mentoring\\\\r\\\\n\\\\r\\\\n', '\\\\r\\\\n\\\\r\\\\n\\\\r\\\\n\\\\r\\\\n', '\\\\r\\\\n      \\\\r\\\\n      ', '\\\\r\\\\n            ', '\\\\r\\\\n              ', '\\\\r\\\\n            ', '\\\\r\\\\n          ', '\\\\r\\\\n      \\\\r\\\\n    ', '\\\\r\\\\n      \\\\r\\\\n\\\\r\\\\n      \\\\r\\\\n      \\\\r\\\\n  ', '\\\\r\\\\n        ', '\\\\r\\\\n              ', '\\\\r\\\\n                    ', '\\\\r\\\\n                      Hi Muhammad Al-Ashmawy,\\\\r\\\\n                    ', '\\\\r\\\\n                    ', '\\\\r\\\\n                      Congratulations on taking the first step toward joining our community of more than 121,000 small\\\\r\\\\n                      business owners. ', 'Next, you need to complete your profile.', '\\\\r\\\\n                    ', '\\\\r\\\\n                  ', '\\\\r\\\\n            ', '\\\\r\\\\n              \\\\r\\\\n              ', '\\\\r\\\\n                    ', '\\\\r\\\\n                          ', '\\\\r\\\\n                            Complete your profile now\\\\r\\\\n                          ', '\\\\r\\\\n                        ', '\\\\r\\\\n                  ', '\\\\r\\\\n            ', '\\\\r\\\\n              ', '\\\\r\\\\n                    ', '\\\\r\\\\n                      Once your profile is complete, you can start searching through more than 45,000 mentors from 150+\\\\r\\\\n                      countries and regions including:\\\\r\\\\n                    ', '\\\\r\\\\n                    ', 'North America', 'South Asia', 'Middle East & Africa', 'Africa', 'Latin America', 'Europe', '\\\\r\\\\n                    ', '\\\\r\\\\n                      On average, entrepreneurs on MicroMentor receive ', '12 hours of free mentoring', '.\\\\r\\\\n                      Finish your profile to get started today.\\\\r\\\\n                    ', '\\\\r\\\\n                  ', '\\\\r\\\\n            ', '\\\\r\\\\n              ', '\\\\r\\\\n                ', '\\\\r\\\\n              ', '\\\\r\\\\n            ', '\\\\r\\\\n              ', '\\\\r\\\\n                    ', \"\\\\r\\\\n                      Become a part of the world\\\\'s largest community of entrepreneurs and experienced business mentors\\\\r\\\\n                      and help your business grow and succeed.\\\\r\\\\n                    \", '\\\\r\\\\n                  ', '\\\\r\\\\n            ', '\\\\r\\\\n              \\\\r\\\\n              ', '\\\\r\\\\n                    ', '\\\\r\\\\n                          ', '\\\\r\\\\n                            Complete your profile\\\\r\\\\n                          ', '\\\\r\\\\n                        ', '\\\\r\\\\n                  ', '\\\\r\\\\n            ', '\\\\r\\\\n      ', '\\\\r\\\\n  \\\\r\\\\n\\\\r\\\\n      \\\\r\\\\n\\\\r\\\\n  \\\\r\\\\n  ', '\\\\r\\\\n      \\\\r\\\\n\\\\r\\\\n      ', '\\\\r\\\\n            MicroMentor 45 SW Ankeny St, Portland, OR 97204 USA\\\\r\\\\n            ', '\\\\r\\\\n            \\\\r\\\\n              ', 'Update Contact Settings', '\\\\r\\\\n              ', '\\\\r\\\\n            \\\\r\\\\n            ', 'Help Center', '\\\\r\\\\n            ', '\\\\r\\\\n            ', '\\\\r\\\\n            ', '\\\\r\\\\n                ', '\\\\r\\\\n                  ', '\\\\r\\\\n                ', '\\\\r\\\\n                  ', '\\\\r\\\\n                ', '\\\\r\\\\n                  ', '\\\\r\\\\n          ', '\\\\r\\\\n\\\\r\\\\n      ', '\\\\r\\\\n        Got a queston? Reply to this email.\\\\r\\\\n      ', '\\\\r\\\\n    ', '\\\\r\\\\n\\\\r\\\\n\\\\r\\\\n\\\\r\\\\n\\\\r\\\\n', '\\\\r\\\\n\\\\r\\\\n\\\\r\\\\n', \"'\", \"b'\", 'Ashmawy from Android \\\\xc2\\\\xae\\\\xef\\\\xb8\\\\x8f', '---------- Forwarded message ----------', 'From: Udacity Scholarships Team <support@udacity.com>', 'Date: 19 Mar 2022 6:47 am', 'Subject: Your application for the Egypt FWD scholarship program has been received!', 'To: Muhammad Al-Ashmawy <al_ashmawy@outlook.com>', 'Cc: ', '\\\\r\\\\n    \\\\r\\\\n    \\\\r\\\\n    ', '\\\\r\\\\n          ', '\\\\r\\\\n            ', '\\\\r\\\\n              ', 'Your application for the Egypt Future Work is Digital free scholarship program has been received. You can still edit your application until the deadline of April 1\\\\xe2\\\\x80\\\\x8d5, 20\\\\xe2\\\\x80\\\\x8d22.', '\\\\r\\\\n              \\\\r\\\\n              ', '\\\\r\\\\n                    ', '\\\\r\\\\n                          ', '\\\\r\\\\n', ' ', '\\\\r\\\\n\\\\r\\\\n\\\\r\\\\n\\\\r\\\\n', '\\\\r\\\\n                        ', '\\\\r\\\\n                  ', '\\\\r\\\\n                    ', '\\\\r\\\\n                       \\\\r\\\\n                          ', '\\\\r\\\\n                              \\\\r\\\\n                                ', '\\\\r\\\\n                                  ', '\\\\r\\\\n                                        ', 'Thank you for applying to Egypt Future Work is Digital free scholarship program,  Muhammad!', '\\\\r\\\\n                                        ', \"We\\\\'re writing to confirm that your application for the \", '\\\\r\\\\n Egypt FWD\\\\r\\\\n                                           specialization course ', ' of the Egypt Future Work is Digital free scholarship program has been received. \\\\r\\\\n', '\\\\r\\\\n  \\\\r\\\\n                            \\\\r\\\\n                                        ', 'You can still edit your application until the deadline of Apr\\\\xe2\\\\x80\\\\x8dil 1\\\\xe2\\\\x80\\\\x8d5, 20\\\\xe2\\\\x80\\\\x8d22. ', '        \\\\r\\\\n                                      ', '\\\\r\\\\n                                ', '\\\\r\\\\n                              \\\\r\\\\n                              ', '\\\\r\\\\n                              \\\\r\\\\n                                ', '\\\\r\\\\n\\\\t\\\\t\\\\t', '\\\\r\\\\n\\\\t\\\\t\\\\t', '\\\\r\\\\n\\\\t\\\\t\\\\t\\\\t\\\\t\\\\t', 'EDIT APPLICATION', '\\\\r\\\\n\\\\t\\\\t\\\\t\\\\t\\\\t\\\\t', '\\\\r\\\\n\\\\t\\\\t\\\\t', '\\\\r\\\\n\\\\t\\\\t\\\\t', '\\\\r\\\\n', '\\\\r\\\\n                              \\\\r\\\\n                              ', '\\\\r\\\\n                              \\\\r\\\\n                                ', '\\\\r\\\\n                                  ', '\\\\r\\\\n                                        ', 'Questions? Reach out to ', ' fwd-support@udacity.com', '.', '\\\\r\\\\n                                         \\\\r\\\\n                                        ', 'Best regards,', ' The Udacity Team', '\\\\r\\\\n                                      ', '\\\\r\\\\n                                ', '\\\\r\\\\n                              \\\\r\\\\n                              ', '\\\\r\\\\n\\\\t\\\\t\\\\t\\\\t\\\\t\\\\t\\\\t\\\\t ', ' \\\\r\\\\n\\\\t\\\\t\\\\t\\\\t\\\\t\\\\t\\\\t\\\\t', '\\\\r\\\\n                        ', '\\\\r\\\\n                  ', '\\\\r\\\\n                    ', '\\\\r\\\\n                          ', '\\\\r\\\\n                        ', '\\\\r\\\\n                          ', '\\\\r\\\\n                        ', '\\\\r\\\\n                          ', '\\\\r\\\\n                        ', '\\\\r\\\\n                          ', '\\\\r\\\\n                        ', '\\\\r\\\\n                  ', '\\\\r\\\\n                    ', '\\\\r\\\\n                          ', '\\\\xc2\\\\xa9 2\\\\xe2\\\\x80\\\\x8d02\\\\xe2\\\\x80\\\\x8d2 U\\\\xe2\\\\x80\\\\x8dda\\\\xe2\\\\x80\\\\x8dci\\\\xe2\\\\x80\\\\x8dty, I\\\\xe2\\\\x80\\\\x8dnc. \\xa0\\\\xe2\\\\x80\\\\xa2\\xa0 2440 W \\\\xe2\\\\x80\\\\x8dEl Cam\\\\xe2\\\\x80\\\\x8dino Real \\xa0 \\\\xe2\\\\x80\\\\xa2 \\xa0Mou\\\\xe2\\\\x80\\\\x8dntain V\\\\xe2\\\\x80\\\\x8diew, C\\\\xe2\\\\x80\\\\x8dA 94\\\\xe2\\\\x80\\\\x8d040', '\\\\r\\\\n                          \\\\r\\\\n                          \\\\r\\\\n                          ', \"You\\\\'ve received this email because you created an account with us and are signed up to receive email updates from Udacity.\", '\\\\r\\\\n                          \\\\r\\\\n                          ', 'Update your email preferences to choose what types of emails you receive', '\\\\r\\\\n                          ', 'Unsubscribe from all marketing emails', '\\\\r\\\\n                        ', '\\\\r\\\\n                  ', '\\\\r\\\\n              ', '\\\\r\\\\n                    ', 'Be in demand', '\\\\r\\\\n                  ', '\\\\r\\\\n            ', '\\\\r\\\\n          \\\\r\\\\n        \\\\r\\\\n      \\\\r\\\\n    \\\\r\\\\n  \\\\r\\\\n\\\\r\\\\n', '\\\\r\\\\n', \"'\", 'None', 'None', 'None', 'None', 'None']\n"
     ]
    }
   ],
   "source": [
    "print(all_data)"
   ]
  },
  {
   "cell_type": "code",
   "execution_count": 7,
   "metadata": {},
   "outputs": [
    {
     "name": "stdout",
     "output_type": "stream",
     "text": [
      "0                                       Security alert\n",
      "1                                       Security alert\n",
      "2       Fwd: Complete your profile and start mentoring\n",
      "3    Fwd: Your application for the Egypt FWD schola...\n",
      "4      Recovery email verified for your Google Account\n",
      "5                                       Security alert\n",
      "6    Help strengthen the security of your Google Ac...\n",
      "7                                       Security alert\n",
      "8                        2-Step Verification turned on\n",
      "Name: subject, dtype: object\n"
     ]
    }
   ],
   "source": [
    "print(messages_df['subject'])"
   ]
  },
  {
   "cell_type": "markdown",
   "metadata": {},
   "source": [
    "<a id='eda'></a>\n",
    "## Exploratory Data Analysis\n",
    "\n",
    "### Research Question 1 (Replace this header name!)"
   ]
  },
  {
   "cell_type": "code",
   "execution_count": null,
   "metadata": {
    "collapsed": true
   },
   "outputs": [],
   "source": [
    "# Use this, and more code cells, to explore your data. Don't forget to add\n",
    "#   Markdown cells to document your observations and findings.\n"
   ]
  },
  {
   "cell_type": "markdown",
   "metadata": {},
   "source": [
    "### Research Question 2  (Replace this header name!)"
   ]
  },
  {
   "cell_type": "code",
   "execution_count": null,
   "metadata": {
    "collapsed": true
   },
   "outputs": [],
   "source": [
    "# Continue to explore the data to address your additional research\n",
    "#   questions. Add more headers as needed if you have more questions to\n",
    "#   investigate.\n"
   ]
  },
  {
   "cell_type": "markdown",
   "metadata": {},
   "source": [
    "<a id='conclusions'></a>\n",
    "## Conclusions"
   ]
  },
  {
   "cell_type": "code",
   "execution_count": null,
   "metadata": {
    "collapsed": true
   },
   "outputs": [],
   "source": []
  }
 ],
 "metadata": {
  "kernelspec": {
   "display_name": "Python [default]",
   "language": "python",
   "name": "python3"
  },
  "language_info": {
   "codemirror_mode": {
    "name": "ipython",
    "version": 3
   },
   "file_extension": ".py",
   "mimetype": "text/x-python",
   "name": "python",
   "nbconvert_exporter": "python",
   "pygments_lexer": "ipython3",
   "version": "3.9.7"
  }
 },
 "nbformat": 4,
 "nbformat_minor": 2
}
