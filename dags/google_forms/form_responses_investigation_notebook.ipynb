{
 "cells": [
  {
   "cell_type": "markdown",
   "metadata": {},
   "source": [
    "# Project: Investigate Email Messages Dataset\n",
    "\n",
    "## Table of Contents\n",
    "<ul>\n",
    "<li><a href=\"#intro\">Introduction</a></li>\n",
    "<li><a href=\"#wrangling\">Data Wrangling</a></li>\n",
    "<li><a href=\"#eda\">Exploratory Data Analysis</a></li>\n",
    "<li><a href=\"#conclusions\">Conclusions</a></li>\n",
    "</ul>"
   ]
  },
  {
   "cell_type": "markdown",
   "metadata": {},
   "source": [
    "<a id='intro'></a>\n",
    "## Introduction\n",
    "*This is the responses investigation notebook* "
   ]
  },
  {
   "cell_type": "code",
   "execution_count": 1,
   "metadata": {
    "collapsed": true
   },
   "outputs": [],
   "source": [
    "from google_forms_handler import get_form_responses_df\n",
    "from pprint import pprint"
   ]
  },
  {
   "cell_type": "markdown",
   "metadata": {},
   "source": [
    "<a id='wrangling'></a>\n",
    "## Data Wrangling\n",
    "\n",
    "### General Properties"
   ]
  },
  {
   "cell_type": "code",
   "execution_count": 2,
   "metadata": {},
   "outputs": [
    {
     "name": "stdout",
     "output_type": "stream",
     "text": [
      "Form responses saved into a Dataframe successfully : )\n"
     ]
    }
   ],
   "source": [
    "form_responses_df = get_form_responses_df()"
   ]
  },
  {
   "cell_type": "code",
   "execution_count": 3,
   "metadata": {},
   "outputs": [
    {
     "data": {
      "text/html": [
       "<div>\n",
       "<style scoped>\n",
       "    .dataframe tbody tr th:only-of-type {\n",
       "        vertical-align: middle;\n",
       "    }\n",
       "\n",
       "    .dataframe tbody tr th {\n",
       "        vertical-align: top;\n",
       "    }\n",
       "\n",
       "    .dataframe thead th {\n",
       "        text-align: right;\n",
       "    }\n",
       "</style>\n",
       "<table border=\"1\" class=\"dataframe\">\n",
       "  <thead>\n",
       "    <tr style=\"text-align: right;\">\n",
       "      <th></th>\n",
       "      <th>Timestamp</th>\n",
       "      <th>Email Address</th>\n",
       "      <th>learning journey</th>\n",
       "      <th>course content</th>\n",
       "      <th>practical implementation</th>\n",
       "      <th>skill set improvement</th>\n",
       "      <th>new skills acquired</th>\n",
       "    </tr>\n",
       "  </thead>\n",
       "  <tbody>\n",
       "    <tr>\n",
       "      <th>0</th>\n",
       "      <td>2022-05-30 18:34:56.031</td>\n",
       "      <td>al_ashmawy@outlook.com</td>\n",
       "      <td>10.0</td>\n",
       "      <td>10.0</td>\n",
       "      <td>10.0</td>\n",
       "      <td>10.0</td>\n",
       "      <td>10.0</td>\n",
       "    </tr>\n",
       "    <tr>\n",
       "      <th>1</th>\n",
       "      <td>2022-05-30 18:39:20.110</td>\n",
       "      <td>muhammad.alashmaawy@gmail.com</td>\n",
       "      <td>10.0</td>\n",
       "      <td>10.0</td>\n",
       "      <td>10.0</td>\n",
       "      <td>10.0</td>\n",
       "      <td>10.0</td>\n",
       "    </tr>\n",
       "    <tr>\n",
       "      <th>2</th>\n",
       "      <td>2022-05-30 20:21:12.227</td>\n",
       "      <td>al_ashmawy@outlook.com</td>\n",
       "      <td>9.0</td>\n",
       "      <td>9.0</td>\n",
       "      <td>8.0</td>\n",
       "      <td>6.0</td>\n",
       "      <td>10.0</td>\n",
       "    </tr>\n",
       "    <tr>\n",
       "      <th>3</th>\n",
       "      <td>2022-05-30 20:21:44.848</td>\n",
       "      <td>al_ashmawy@outlook.com</td>\n",
       "      <td>7.0</td>\n",
       "      <td>1.0</td>\n",
       "      <td>4.0</td>\n",
       "      <td>5.0</td>\n",
       "      <td>0.0</td>\n",
       "    </tr>\n",
       "    <tr>\n",
       "      <th>4</th>\n",
       "      <td>2022-05-30 20:22:04.689</td>\n",
       "      <td>al_ashmawy@outlook.com</td>\n",
       "      <td>7.0</td>\n",
       "      <td>3.0</td>\n",
       "      <td>9.0</td>\n",
       "      <td>10.0</td>\n",
       "      <td>3.0</td>\n",
       "    </tr>\n",
       "    <tr>\n",
       "      <th>5</th>\n",
       "      <td>2022-05-30 20:27:39.073</td>\n",
       "      <td>mohamed.25250@eng.modern-academy.edu.eg</td>\n",
       "      <td>8.0</td>\n",
       "      <td>10.0</td>\n",
       "      <td>10.0</td>\n",
       "      <td>10.0</td>\n",
       "      <td>6.0</td>\n",
       "    </tr>\n",
       "    <tr>\n",
       "      <th>6</th>\n",
       "      <td>2022-06-05 12:08:26.611</td>\n",
       "      <td>mostafam.elmarzouki@gmail.com</td>\n",
       "      <td>1.0</td>\n",
       "      <td>1.0</td>\n",
       "      <td>1.0</td>\n",
       "      <td>1.0</td>\n",
       "      <td>0.0</td>\n",
       "    </tr>\n",
       "  </tbody>\n",
       "</table>\n",
       "</div>"
      ],
      "text/plain": [
       "                Timestamp                            Email Address  \\\n",
       "0 2022-05-30 18:34:56.031                   al_ashmawy@outlook.com   \n",
       "1 2022-05-30 18:39:20.110            muhammad.alashmaawy@gmail.com   \n",
       "2 2022-05-30 20:21:12.227                   al_ashmawy@outlook.com   \n",
       "3 2022-05-30 20:21:44.848                   al_ashmawy@outlook.com   \n",
       "4 2022-05-30 20:22:04.689                   al_ashmawy@outlook.com   \n",
       "5 2022-05-30 20:27:39.073  mohamed.25250@eng.modern-academy.edu.eg   \n",
       "6 2022-06-05 12:08:26.611            mostafam.elmarzouki@gmail.com   \n",
       "\n",
       "   learning journey  course content  practical implementation  \\\n",
       "0              10.0            10.0                      10.0   \n",
       "1              10.0            10.0                      10.0   \n",
       "2               9.0             9.0                       8.0   \n",
       "3               7.0             1.0                       4.0   \n",
       "4               7.0             3.0                       9.0   \n",
       "5               8.0            10.0                      10.0   \n",
       "6               1.0             1.0                       1.0   \n",
       "\n",
       "   skill set improvement  new skills acquired  \n",
       "0                   10.0                 10.0  \n",
       "1                   10.0                 10.0  \n",
       "2                    6.0                 10.0  \n",
       "3                    5.0                  0.0  \n",
       "4                   10.0                  3.0  \n",
       "5                   10.0                  6.0  \n",
       "6                    1.0                  0.0  "
      ]
     },
     "execution_count": 3,
     "metadata": {},
     "output_type": "execute_result"
    }
   ],
   "source": [
    "form_responses_df.head(10)"
   ]
  },
  {
   "cell_type": "code",
   "execution_count": 4,
   "metadata": {},
   "outputs": [
    {
     "name": "stdout",
     "output_type": "stream",
     "text": [
      "<class 'pandas.core.frame.DataFrame'>\n",
      "RangeIndex: 7 entries, 0 to 6\n",
      "Data columns (total 7 columns):\n",
      " #   Column                    Non-Null Count  Dtype         \n",
      "---  ------                    --------------  -----         \n",
      " 0   Timestamp                 7 non-null      datetime64[ns]\n",
      " 1   Email Address             7 non-null      object        \n",
      " 2   learning journey          7 non-null      float64       \n",
      " 3   course content            7 non-null      float64       \n",
      " 4   practical implementation  7 non-null      float64       \n",
      " 5   skill set improvement     7 non-null      float64       \n",
      " 6   new skills acquired       7 non-null      float64       \n",
      "dtypes: datetime64[ns](1), float64(5), object(1)\n",
      "memory usage: 520.0+ bytes\n"
     ]
    }
   ],
   "source": [
    "form_responses_df.info()"
   ]
  },
  {
   "cell_type": "code",
   "execution_count": null,
   "metadata": {},
   "outputs": [],
   "source": []
  },
  {
   "cell_type": "markdown",
   "metadata": {},
   "source": [
    "<a id='eda'></a>\n",
    "## Exploratory Data Analysis\n",
    "\n",
    "### Research Question 1: How many responses did we get above 5.0?"
   ]
  },
  {
   "cell_type": "code",
   "execution_count": 5,
   "metadata": {
    "collapsed": true
   },
   "outputs": [],
   "source": [
    "def get_column_items_frequency(column: str) -> dict:\n",
    "    items_frequency = {}\n",
    "    for subject in form_responses_df[column]:\n",
    "        if subject in items_frequency:\n",
    "            items_frequency[subject] += 1\n",
    "        # Intiates count for items\n",
    "        else:\n",
    "            items_frequency[subject] = 1\n",
    "    return items_frequency"
   ]
  },
  {
   "cell_type": "code",
   "execution_count": 6,
   "metadata": {},
   "outputs": [],
   "source": [
    "def get_all_columns_frequencies() -> dict:\n",
    "    all_columns_frequencies = {}\n",
    "    for column in form_responses_df:\n",
    "        if column != 'Timestamp':\n",
    "            all_columns_frequencies[column] = get_column_items_frequency(column)\n",
    "    return all_columns_frequencies"
   ]
  },
  {
   "cell_type": "code",
   "execution_count": 7,
   "metadata": {},
   "outputs": [
    {
     "name": "stdout",
     "output_type": "stream",
     "text": [
      "{'Email Address': {'al_ashmawy@outlook.com': 4,\n",
      "                   'mohamed.25250@eng.modern-academy.edu.eg': 1,\n",
      "                   'mostafam.elmarzouki@gmail.com': 1,\n",
      "                   'muhammad.alashmaawy@gmail.com': 1},\n",
      " 'course content': {1.0: 2, 3.0: 1, 9.0: 1, 10.0: 3},\n",
      " 'learning journey': {1.0: 1, 7.0: 2, 8.0: 1, 9.0: 1, 10.0: 2},\n",
      " 'new skills acquired': {0.0: 2, 3.0: 1, 6.0: 1, 10.0: 3},\n",
      " 'practical implementation': {1.0: 1, 4.0: 1, 8.0: 1, 9.0: 1, 10.0: 3},\n",
      " 'skill set improvement': {1.0: 1, 5.0: 1, 6.0: 1, 10.0: 4}}\n"
     ]
    }
   ],
   "source": [
    "pprint(get_all_columns_frequencies())"
   ]
  },
  {
   "cell_type": "markdown",
   "metadata": {},
   "source": [
    "### Research Question 2"
   ]
  },
  {
   "cell_type": "code",
   "execution_count": null,
   "metadata": {
    "collapsed": true
   },
   "outputs": [],
   "source": []
  },
  {
   "cell_type": "code",
   "execution_count": null,
   "metadata": {},
   "outputs": [],
   "source": []
  },
  {
   "cell_type": "code",
   "execution_count": null,
   "metadata": {},
   "outputs": [],
   "source": []
  },
  {
   "cell_type": "markdown",
   "metadata": {},
   "source": [
    "<a id='conclusions'></a>\n",
    "## Conclusions"
   ]
  },
  {
   "cell_type": "markdown",
   "metadata": {
    "collapsed": true
   },
   "source": [
    "*Here we write the conclusions we aquire about the data*"
   ]
  }
 ],
 "metadata": {
  "interpreter": {
   "hash": "473131eb510692de2cef3a69a80f9af127f216bd7e82f61d75e93ca17049a393"
  },
  "kernelspec": {
   "display_name": "Python 3.9.7 ('base')",
   "language": "python",
   "name": "python3"
  },
  "language_info": {
   "codemirror_mode": {
    "name": "ipython",
    "version": 3
   },
   "file_extension": ".py",
   "mimetype": "text/x-python",
   "name": "python",
   "nbconvert_exporter": "python",
   "pygments_lexer": "ipython3",
   "version": "3.9.7"
  }
 },
 "nbformat": 4,
 "nbformat_minor": 2
}
