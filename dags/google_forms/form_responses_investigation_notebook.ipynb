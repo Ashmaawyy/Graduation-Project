{
 "cells": [
  {
   "cell_type": "markdown",
   "metadata": {},
   "source": [
    "# Project: Investigate Email Messages Dataset\n",
    "\n",
    "## Table of Contents\n",
    "<ul>\n",
    "<li><a href=\"#intro\">Introduction</a></li>\n",
    "<li><a href=\"#wrangling\">Data Wrangling</a></li>\n",
    "<li><a href=\"#eda\">Exploratory Data Analysis</a></li>\n",
    "<li><a href=\"#conclusions\">Conclusions</a></li>\n",
    "</ul>"
   ]
  },
  {
   "cell_type": "markdown",
   "metadata": {},
   "source": [
    "<a id='intro'></a>\n",
    "## Introduction\n",
    "*This is the responses investigation notebook* "
   ]
  },
  {
   "cell_type": "code",
   "execution_count": 1,
   "metadata": {
    "collapsed": true
   },
   "outputs": [],
   "source": [
    "from google_forms_handler import get_form_responses_df\n",
    "from pprint import pprint"
   ]
  },
  {
   "cell_type": "markdown",
   "metadata": {},
   "source": [
    "<a id='wrangling'></a>\n",
    "## Data Wrangling\n",
    "\n",
    "### General Properties"
   ]
  },
  {
   "cell_type": "code",
   "execution_count": 2,
   "metadata": {},
   "outputs": [
    {
     "name": "stdout",
     "output_type": "stream",
     "text": [
      "Form responses saved into a Dataframe successfully : )\n",
      "                Timestamp                  Email Address  learning journey  \\\n",
      "0 2022-05-30 18:34:56.031         al_ashmawy@outlook.com              10.0   \n",
      "1 2022-05-30 18:39:20.110  muhammad.alashmaawy@gmail.com              10.0   \n",
      "2 2022-05-30 20:21:12.227         al_ashmawy@outlook.com               9.0   \n",
      "3 2022-05-30 20:21:44.848         al_ashmawy@outlook.com               7.0   \n",
      "4 2022-05-30 20:22:04.689         al_ashmawy@outlook.com               7.0   \n",
      "\n",
      "   course content  practical implementation  skill set improvement  \\\n",
      "0            10.0                      10.0                   10.0   \n",
      "1            10.0                      10.0                   10.0   \n",
      "2             9.0                       8.0                    6.0   \n",
      "3             1.0                       4.0                    5.0   \n",
      "4             3.0                       9.0                   10.0   \n",
      "\n",
      "   new skills acquired  \n",
      "0                 10.0  \n",
      "1                 10.0  \n",
      "2                 10.0  \n",
      "3                  0.0  \n",
      "4                  3.0  \n"
     ]
    }
   ],
   "source": [
    "form_responses_df = get_form_responses_df()\n",
    "print(form_responses_df.head())"
   ]
  },
  {
   "cell_type": "code",
   "execution_count": null,
   "metadata": {},
   "outputs": [],
   "source": []
  },
  {
   "cell_type": "code",
   "execution_count": null,
   "metadata": {},
   "outputs": [],
   "source": []
  },
  {
   "cell_type": "markdown",
   "metadata": {},
   "source": [
    "<a id='eda'></a>\n",
    "## Exploratory Data Analysis\n",
    "\n",
    "### Research Question 1: What most incoming emails are about?"
   ]
  },
  {
   "cell_type": "code",
   "execution_count": 3,
   "metadata": {
    "collapsed": true
   },
   "outputs": [],
   "source": [
    "def get_column_items_frequency(column: str) -> dict:\n",
    "    items_frequency = {}\n",
    "    for subject in form_responses_df[column]:\n",
    "        if subject in items_frequency:\n",
    "            items_frequency[subject] += 1\n",
    "        # Intiates count for items\n",
    "        else:\n",
    "            items_frequency[subject] = 1\n",
    "    return items_frequency"
   ]
  },
  {
   "cell_type": "code",
   "execution_count": 4,
   "metadata": {},
   "outputs": [],
   "source": [
    "def get_all_columns_frequencies() -> dict:\n",
    "    all_columns_frequencies = {}\n",
    "    for column in form_responses_df:\n",
    "        if column != 'Timestamp':\n",
    "            all_columns_frequencies[column] = get_column_items_frequency(column)\n",
    "    return all_columns_frequencies"
   ]
  },
  {
   "cell_type": "code",
   "execution_count": 5,
   "metadata": {},
   "outputs": [
    {
     "name": "stdout",
     "output_type": "stream",
     "text": [
      "{'Email Address': {'al_ashmawy@outlook.com': 4,\n",
      "                   'mohamed.25250@eng.modern-academy.edu.eg': 1,\n",
      "                   'muhammad.alashmaawy@gmail.com': 1},\n",
      " 'course content': {1.0: 1, 3.0: 1, 9.0: 1, 10.0: 3},\n",
      " 'learning journey': {7.0: 2, 8.0: 1, 9.0: 1, 10.0: 2},\n",
      " 'new skills acquired': {0.0: 1, 3.0: 1, 6.0: 1, 10.0: 3},\n",
      " 'practical implementation': {4.0: 1, 8.0: 1, 9.0: 1, 10.0: 3},\n",
      " 'skill set improvement': {5.0: 1, 6.0: 1, 10.0: 4}}\n"
     ]
    }
   ],
   "source": [
    "pprint(get_all_columns_frequencies())"
   ]
  },
  {
   "cell_type": "markdown",
   "metadata": {},
   "source": [
    "### Research Question 2"
   ]
  },
  {
   "cell_type": "code",
   "execution_count": null,
   "metadata": {
    "collapsed": true
   },
   "outputs": [],
   "source": []
  },
  {
   "cell_type": "code",
   "execution_count": null,
   "metadata": {},
   "outputs": [],
   "source": []
  },
  {
   "cell_type": "code",
   "execution_count": null,
   "metadata": {},
   "outputs": [],
   "source": []
  },
  {
   "cell_type": "markdown",
   "metadata": {},
   "source": [
    "<a id='conclusions'></a>\n",
    "## Conclusions"
   ]
  },
  {
   "cell_type": "markdown",
   "metadata": {
    "collapsed": true
   },
   "source": [
    "*Here we write the conclusions we aquire about the data*"
   ]
  }
 ],
 "metadata": {
  "interpreter": {
   "hash": "473131eb510692de2cef3a69a80f9af127f216bd7e82f61d75e93ca17049a393"
  },
  "kernelspec": {
   "display_name": "Python 3.9.7 ('base')",
   "language": "python",
   "name": "python3"
  },
  "language_info": {
   "codemirror_mode": {
    "name": "ipython",
    "version": 3
   },
   "file_extension": ".py",
   "mimetype": "text/x-python",
   "name": "python",
   "nbconvert_exporter": "python",
   "pygments_lexer": "ipython3",
   "version": "3.9.7"
  }
 },
 "nbformat": 4,
 "nbformat_minor": 2
}
