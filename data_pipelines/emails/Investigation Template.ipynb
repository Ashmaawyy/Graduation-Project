{
 "cells": [
  {
   "cell_type": "markdown",
   "metadata": {},
   "source": [
    "# Project: Investigate Email Messages Dataset\n",
    "\n",
    "## Table of Contents\n",
    "<ul>\n",
    "<li><a href=\"#intro\">Introduction</a></li>\n",
    "<li><a href=\"#wrangling\">Data Wrangling</a></li>\n",
    "<li><a href=\"#eda\">Exploratory Data Analysis</a></li>\n",
    "<li><a href=\"#conclusions\">Conclusions</a></li>\n",
    "</ul>"
   ]
  },
  {
   "cell_type": "markdown",
   "metadata": {},
   "source": [
    "<a id='intro'></a>\n",
    "## Introduction\n"
   ]
  },
  {
   "cell_type": "code",
   "execution_count": 4,
   "metadata": {
    "collapsed": true
   },
   "outputs": [],
   "source": [
    "from email_handler import *"
   ]
  },
  {
   "cell_type": "markdown",
   "metadata": {},
   "source": [
    "<a id='wrangling'></a>\n",
    "## Data Wrangling\n",
    "\n",
    "### General Properties"
   ]
  },
  {
   "cell_type": "code",
   "execution_count": 2,
   "metadata": {
    "collapsed": true
   },
   "outputs": [
    {
     "name": "stdout",
     "output_type": "stream",
     "text": [
      "Messages saved into a dataframe successfully :)\n",
      "<class 'pandas.core.frame.DataFrame'>\n",
      "RangeIndex: 8 entries, 0 to 7\n",
      "Data columns (total 3 columns):\n",
      " #   Column   Non-Null Count  Dtype \n",
      "---  ------   --------------  ----- \n",
      " 0   subject  8 non-null      object\n",
      " 1   from     8 non-null      object\n",
      " 2   body     2 non-null      object\n",
      "dtypes: object(3)\n",
      "memory usage: 320.0+ bytes\n"
     ]
    }
   ],
   "source": [
    "messages_df = recieve_emails_into_df()\n",
    "messages_df.info()"
   ]
  },
  {
   "cell_type": "code",
   "execution_count": 3,
   "metadata": {},
   "outputs": [
    {
     "data": {
      "text/html": [
       "<div>\n",
       "<style scoped>\n",
       "    .dataframe tbody tr th:only-of-type {\n",
       "        vertical-align: middle;\n",
       "    }\n",
       "\n",
       "    .dataframe tbody tr th {\n",
       "        vertical-align: top;\n",
       "    }\n",
       "\n",
       "    .dataframe thead th {\n",
       "        text-align: right;\n",
       "    }\n",
       "</style>\n",
       "<table border=\"1\" class=\"dataframe\">\n",
       "  <thead>\n",
       "    <tr style=\"text-align: right;\">\n",
       "      <th></th>\n",
       "      <th>subject</th>\n",
       "      <th>from</th>\n",
       "      <th>body</th>\n",
       "    </tr>\n",
       "  </thead>\n",
       "  <tbody>\n",
       "    <tr>\n",
       "      <th>0</th>\n",
       "      <td>14 jobs near you: English Technical Support Re...</td>\n",
       "      <td>\"Facebook\" &lt;notification@facebookmail.com&gt;</td>\n",
       "      <td>None</td>\n",
       "    </tr>\n",
       "    <tr>\n",
       "      <th>1</th>\n",
       "      <td>=?UTF-8?B?8J+YsSDYp9iz2LnYp9ixINin2YLZhCDZhdmG...</td>\n",
       "      <td>\"Ravin \" &lt;no-reply@marsello.com&gt;</td>\n",
       "      <td>b'&lt;!DOCTYPE HTML PUBLIC \"-//W3C//DTD XHTML 1.0...</td>\n",
       "    </tr>\n",
       "    <tr>\n",
       "      <th>2</th>\n",
       "      <td>Monday: Can you make \"Office Hours: 2021 Call ...</td>\n",
       "      <td>IBM Developer Egypt &lt;info@meetup.com&gt;</td>\n",
       "      <td>None</td>\n",
       "    </tr>\n",
       "    <tr>\n",
       "      <th>3</th>\n",
       "      <td>@Mo_Al_ashmawy, check out the notifications yo...</td>\n",
       "      <td>Twitter &lt;notify@twitter.com&gt;</td>\n",
       "      <td>None</td>\n",
       "    </tr>\n",
       "    <tr>\n",
       "      <th>4</th>\n",
       "      <td>=?UTF-8?B?MzAlIG9mZiBhbGwgc3Vic2NyaXB0aW9ucywg...</td>\n",
       "      <td>\"Lingvist\" &lt;hello@lingvist.com&gt;</td>\n",
       "      <td>b'&lt;!DOCTYPE html PUBLIC \"-//W3C//DTD XHTML 1.0...</td>\n",
       "    </tr>\n",
       "    <tr>\n",
       "      <th>5</th>\n",
       "      <td>=?UTF-8?B?UG93ZXJmdWwgbmV3IENPVklELTE5IHZhY2Np...</td>\n",
       "      <td>\"News from Science\" &lt;alerts@aaas.sciencepubs.org&gt;</td>\n",
       "      <td>None</td>\n",
       "    </tr>\n",
       "    <tr>\n",
       "      <th>6</th>\n",
       "      <td>Tomorrow: Join us at \"Go serverless in Watson ...</td>\n",
       "      <td>IBM Developer Egypt &lt;info@meetup.com&gt;</td>\n",
       "      <td>None</td>\n",
       "    </tr>\n",
       "    <tr>\n",
       "      <th>7</th>\n",
       "      <td>Oprah Winfrey Tweeted: #OWNSpotlight: Honoring...</td>\n",
       "      <td>Twitter &lt;info@twitter.com&gt;</td>\n",
       "      <td>None</td>\n",
       "    </tr>\n",
       "  </tbody>\n",
       "</table>\n",
       "</div>"
      ],
      "text/plain": [
       "                                             subject  \\\n",
       "0  14 jobs near you: English Technical Support Re...   \n",
       "1  =?UTF-8?B?8J+YsSDYp9iz2LnYp9ixINin2YLZhCDZhdmG...   \n",
       "2  Monday: Can you make \"Office Hours: 2021 Call ...   \n",
       "3  @Mo_Al_ashmawy, check out the notifications yo...   \n",
       "4  =?UTF-8?B?MzAlIG9mZiBhbGwgc3Vic2NyaXB0aW9ucywg...   \n",
       "5  =?UTF-8?B?UG93ZXJmdWwgbmV3IENPVklELTE5IHZhY2Np...   \n",
       "6  Tomorrow: Join us at \"Go serverless in Watson ...   \n",
       "7  Oprah Winfrey Tweeted: #OWNSpotlight: Honoring...   \n",
       "\n",
       "                                                from  \\\n",
       "0         \"Facebook\" <notification@facebookmail.com>   \n",
       "1                   \"Ravin \" <no-reply@marsello.com>   \n",
       "2              IBM Developer Egypt <info@meetup.com>   \n",
       "3                       Twitter <notify@twitter.com>   \n",
       "4                    \"Lingvist\" <hello@lingvist.com>   \n",
       "5  \"News from Science\" <alerts@aaas.sciencepubs.org>   \n",
       "6              IBM Developer Egypt <info@meetup.com>   \n",
       "7                         Twitter <info@twitter.com>   \n",
       "\n",
       "                                                body  \n",
       "0                                               None  \n",
       "1  b'<!DOCTYPE HTML PUBLIC \"-//W3C//DTD XHTML 1.0...  \n",
       "2                                               None  \n",
       "3                                               None  \n",
       "4  b'<!DOCTYPE html PUBLIC \"-//W3C//DTD XHTML 1.0...  \n",
       "5                                               None  \n",
       "6                                               None  \n",
       "7                                               None  "
      ]
     },
     "execution_count": 3,
     "metadata": {},
     "output_type": "execute_result"
    }
   ],
   "source": [
    "messages_df.head(10)"
   ]
  },
  {
   "cell_type": "markdown",
   "metadata": {},
   "source": [
    "### Data Cleaning"
   ]
  },
  {
   "cell_type": "code",
   "execution_count": 4,
   "metadata": {},
   "outputs": [
    {
     "data": {
      "text/plain": [
       "b'<meta http-equiv=\"Content-Type\" content=\"text/html; charset=utf-8\"><div dir=\"auto\">Hi there !!<br><br><div data-smartmail=\"gmail_signature\">Ashmawy from Android \\xc2\\xae\\xef\\xb8\\x8f</div></div>'"
      ]
     },
     "execution_count": 4,
     "metadata": {},
     "output_type": "execute_result"
    }
   ],
   "source": [
    "# Cleaning of email body string\n",
    "messages_df['body'][0]"
   ]
  },
  {
   "cell_type": "markdown",
   "metadata": {},
   "source": [
    "<a id='eda'></a>\n",
    "## Exploratory Data Analysis\n",
    "\n",
    "### Research Question 1 (Replace this header name!)"
   ]
  },
  {
   "cell_type": "code",
   "execution_count": null,
   "metadata": {
    "collapsed": true
   },
   "outputs": [],
   "source": [
    "# Use this, and more code cells, to explore your data. Don't forget to add\n",
    "#   Markdown cells to document your observations and findings.\n"
   ]
  },
  {
   "cell_type": "markdown",
   "metadata": {},
   "source": [
    "### Research Question 2  (Replace this header name!)"
   ]
  },
  {
   "cell_type": "code",
   "execution_count": null,
   "metadata": {
    "collapsed": true
   },
   "outputs": [],
   "source": [
    "# Continue to explore the data to address your additional research\n",
    "#   questions. Add more headers as needed if you have more questions to\n",
    "#   investigate.\n"
   ]
  },
  {
   "cell_type": "markdown",
   "metadata": {},
   "source": [
    "<a id='conclusions'></a>\n",
    "## Conclusions"
   ]
  },
  {
   "cell_type": "code",
   "execution_count": null,
   "metadata": {
    "collapsed": true
   },
   "outputs": [],
   "source": []
  }
 ],
 "metadata": {
  "kernelspec": {
   "display_name": "Python [default]",
   "language": "python",
   "name": "python3"
  },
  "language_info": {
   "codemirror_mode": {
    "name": "ipython",
    "version": 3
   },
   "file_extension": ".py",
   "mimetype": "text/x-python",
   "name": "python",
   "nbconvert_exporter": "python",
   "pygments_lexer": "ipython3",
   "version": "3.9.7"
  }
 },
 "nbformat": 4,
 "nbformat_minor": 2
}
